{
 "cells": [
  {
   "cell_type": "code",
   "execution_count": 29,
   "id": "902de05e",
   "metadata": {},
   "outputs": [],
   "source": [
    "import cv2 as cv\n",
    "import file_utils\n",
    "def zoom(img, zx=5,zy=15):\n",
    "    return cv.resize(img, None, fx=zx, fy=zy)"
   ]
  },
  {
   "cell_type": "code",
   "execution_count": 30,
   "id": "7c7066cd",
   "metadata": {},
   "outputs": [],
   "source": [
    "img = cv.imread('images/image14.jpg')\n",
    "cropped = img[0:img.shape[0],200:1400]\n",
    "zoomed = zoom(img)\n",
    "zoomed_and_cropped = zoom(cropped)"
   ]
  },
  {
   "cell_type": "code",
   "execution_count": 36,
   "id": "23d87f31",
   "metadata": {},
   "outputs": [
    {
     "ename": "AttributeError",
     "evalue": "module 'cv2' has no attribute 'save'",
     "output_type": "error",
     "traceback": [
      "\u001b[1;31m---------------------------------------------------------------------------\u001b[0m",
      "\u001b[1;31mAttributeError\u001b[0m                            Traceback (most recent call last)",
      "Cell \u001b[1;32mIn[36], line 1\u001b[0m\n\u001b[1;32m----> 1\u001b[0m \u001b[43mcv\u001b[49m\u001b[38;5;241;43m.\u001b[39;49m\u001b[43msave\u001b[49m(\u001b[38;5;124m\"\u001b[39m\u001b[38;5;124mimg.png\u001b[39m\u001b[38;5;124m\"\u001b[39m,cv\u001b[38;5;241m.\u001b[39mresize(cropped, \u001b[38;5;28;01mNone\u001b[39;00m, fx\u001b[38;5;241m=\u001b[39m\u001b[38;5;241m10\u001b[39m, fy\u001b[38;5;241m=\u001b[39m\u001b[38;5;241m15\u001b[39m))\n",
      "\u001b[1;31mAttributeError\u001b[0m: module 'cv2' has no attribute 'save'"
     ]
    }
   ],
   "source": [
    "cv.save(\"img.png\",cv.resize(cropped, None, fx=10, fy=15))"
   ]
  },
  {
   "cell_type": "code",
   "execution_count": 28,
   "id": "0781645d",
   "metadata": {},
   "outputs": [
    {
     "data": {
      "text/plain": [
       "505"
      ]
     },
     "execution_count": 28,
     "metadata": {},
     "output_type": "execute_result"
    }
   ],
   "source": [
    "img.shape[0]"
   ]
  },
  {
   "cell_type": "code",
   "execution_count": null,
   "id": "83e8b6a9",
   "metadata": {},
   "outputs": [],
   "source": []
  }
 ],
 "metadata": {
  "kernelspec": {
   "display_name": "Python 3 (ipykernel)",
   "language": "python",
   "name": "python3"
  },
  "language_info": {
   "codemirror_mode": {
    "name": "ipython",
    "version": 3
   },
   "file_extension": ".py",
   "mimetype": "text/x-python",
   "name": "python",
   "nbconvert_exporter": "python",
   "pygments_lexer": "ipython3",
   "version": "3.9.13"
  }
 },
 "nbformat": 4,
 "nbformat_minor": 5
}
